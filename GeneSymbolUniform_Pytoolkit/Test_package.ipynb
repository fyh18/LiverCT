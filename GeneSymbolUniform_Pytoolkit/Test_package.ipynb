{
 "cells": [
  {
   "cell_type": "code",
   "execution_count": 1,
   "id": "2c9b50d3-8625-464f-bfce-f669552ce76c",
   "metadata": {
    "tags": []
   },
   "outputs": [
    {
     "name": "stderr",
     "output_type": "stream",
     "text": [
      "<frozen importlib._bootstrap>:228: RuntimeWarning: scipy._lib.messagestream.MessageStream size changed, may indicate binary incompatibility. Expected 56 from C header, got 64 from PyObject\n"
     ]
    }
   ],
   "source": [
    "from Pytoolkit_GeneSymbolUniform import GeneSymbolUniform"
   ]
  },
  {
   "cell_type": "code",
   "execution_count": 2,
   "id": "3ac7f3f9-e66e-4ad9-86bc-a2dd3130d548",
   "metadata": {
    "tags": []
   },
   "outputs": [
    {
     "name": "stdout",
     "output_type": "stream",
     "text": [
      "\u001b[0;31mSignature:\u001b[0m\n",
      "\u001b[0mGeneSymbolUniform\u001b[0m\u001b[0;34m(\u001b[0m\u001b[0;34m\u001b[0m\n",
      "\u001b[0;34m\u001b[0m    \u001b[0minput_adata\u001b[0m\u001b[0;34m=\u001b[0m\u001b[0;32mNone\u001b[0m\u001b[0;34m,\u001b[0m\u001b[0;34m\u001b[0m\n",
      "\u001b[0;34m\u001b[0m    \u001b[0minput_path\u001b[0m\u001b[0;34m=\u001b[0m\u001b[0;32mNone\u001b[0m\u001b[0;34m,\u001b[0m\u001b[0;34m\u001b[0m\n",
      "\u001b[0;34m\u001b[0m    \u001b[0mref_table_path\u001b[0m\u001b[0;34m=\u001b[0m\u001b[0;34m'./GeneSymbolRef_SelectAll_upd0731.csv'\u001b[0m\u001b[0;34m,\u001b[0m\u001b[0;34m\u001b[0m\n",
      "\u001b[0;34m\u001b[0m    \u001b[0mgene_list_path\u001b[0m\u001b[0;34m=\u001b[0m\u001b[0;34m'./total_gene_list_42117.txt'\u001b[0m\u001b[0;34m,\u001b[0m\u001b[0;34m\u001b[0m\n",
      "\u001b[0;34m\u001b[0m    \u001b[0moutput_dir\u001b[0m\u001b[0;34m=\u001b[0m\u001b[0;34m'./'\u001b[0m\u001b[0;34m,\u001b[0m\u001b[0;34m\u001b[0m\n",
      "\u001b[0;34m\u001b[0m    \u001b[0moutput_prefix\u001b[0m\u001b[0;34m=\u001b[0m\u001b[0;34m''\u001b[0m\u001b[0;34m,\u001b[0m\u001b[0;34m\u001b[0m\n",
      "\u001b[0;34m\u001b[0m    \u001b[0mprint_report\u001b[0m\u001b[0;34m=\u001b[0m\u001b[0;32mTrue\u001b[0m\u001b[0;34m,\u001b[0m\u001b[0;34m\u001b[0m\n",
      "\u001b[0;34m\u001b[0m    \u001b[0maverage_alias\u001b[0m\u001b[0;34m=\u001b[0m\u001b[0;32mTrue\u001b[0m\u001b[0;34m,\u001b[0m\u001b[0;34m\u001b[0m\n",
      "\u001b[0;34m\u001b[0m    \u001b[0mn_threads\u001b[0m\u001b[0;34m=\u001b[0m\u001b[0;36m10\u001b[0m\u001b[0;34m,\u001b[0m\u001b[0;34m\u001b[0m\n",
      "\u001b[0;34m\u001b[0m\u001b[0;34m)\u001b[0m\u001b[0;34m\u001b[0m\u001b[0;34m\u001b[0m\u001b[0m\n",
      "\u001b[0;31mDocstring:\u001b[0m\n",
      "This function can be divided into following steps: \n",
      "    1) load reference table of the symbol relationships; \n",
      "    2) load the quert data (from a scanpy h5ad file with counts in 'X'); \n",
      "    3) construction the mapping dict between approved symbols and query symbols; \n",
      "    4) construct the output h5ad file and save the file and report\n",
      "    \n",
      "\n",
      ":param input_adata: the input h5ad data with X as the count matrix to be uniformed.\n",
      ":type input_adata: scanpy::AnnData\n",
      ":default input_path: None\n",
      "\n",
      ":param input_path: the path of the input h5ad file (only used when input_data was not given)\n",
      ":type input_path: str\n",
      ":default input_path: None\n",
      "\n",
      ":param ref_table_path: the path of the reference table\n",
      ":type ref_table_path: str\n",
      ":default ref_table_path: \"./GeneSymbolRef_SelectAll_upd0731.csv\"\n",
      "\n",
      ":param gene_list_path: the path of the total gene list table\n",
      ":type gene_list_path: str\n",
      ":default gene_list_path: \"./total_gene_list_42117.txt\"\n",
      "\n",
      ":param output_dir: the path to save the output h5ad file\n",
      ":type output_dir: str\n",
      ":default output_dir: \"./\"\n",
      "\n",
      ":param output_prefix: the prefix of the output and report files\n",
      ":type output_prefix: str\n",
      ":default output_prefix: \"\"\n",
      "\n",
      ":param print_report: if print a report of the modified genes in the report.csv under the output_dir\n",
      ":type print_report: bool\n",
      ":defaul print_report: True\n",
      "\n",
      ":param average_alias: if average the counts of the genes mapped to the same aprroved symbol\n",
      ":type average_alias: bool\n",
      ":default average_alias: True\n",
      "\n",
      "\n",
      ":return: a h5ad data with uniformed epxression matrix.\n",
      ":rtype: scanpy::AnnData\n",
      "\u001b[0;31mFile:\u001b[0m      ~/liver_atlas/code/LiverCT/GeneSymbolUniform_Pytoolkit/Pytoolkit_GeneSymbolUniform.py\n",
      "\u001b[0;31mType:\u001b[0m      function\n"
     ]
    }
   ],
   "source": [
    "?GeneSymbolUniform"
   ]
  },
  {
   "cell_type": "code",
   "execution_count": 3,
   "id": "878d63b0-5dcd-4c42-ad82-35caff86aa5a",
   "metadata": {
    "tags": []
   },
   "outputs": [],
   "source": [
    "import time"
   ]
  },
  {
   "cell_type": "code",
   "execution_count": 7,
   "id": "ccd4defb-ae3f-4354-8e57-bf6ae45ca3f5",
   "metadata": {
    "tags": []
   },
   "outputs": [
    {
     "name": "stdout",
     "output_type": "stream",
     "text": [
      "=========Task Started!=========\n",
      "=========Loading Reference Table=========\n",
      "Finished\n",
      "=========Processing Reference Table=========\n",
      "Finished\n",
      "=========Loading Query Data=========\n",
      "The shape of query data is: (71915, 25712) \n",
      "Print out first 5 genes in query data, in case something wrong happens in data loading: \n",
      "['RP11-34P13.7' 'FO538757.2' 'AP006222.2' 'RP4-669L17.10' 'RP5-857K21.4']\n",
      "Finished\n",
      "=========Processing Gene List=========\n",
      "The length of reference gene_list is: 43878\n",
      "Finished\n",
      "=========Performing Gene Symbol Uniform=========\n",
      "Performing gene symbol uniform, this step may take several minutes\n"
     ]
    },
    {
     "name": "stderr",
     "output_type": "stream",
     "text": [
      "Processing: 100%|██████████| 25712/25712 [01:25<00:00, 299.38it/s]\n"
     ]
    },
    {
     "name": "stdout",
     "output_type": "stream",
     "text": [
      "Finished\n",
      "=========Building output data=========\n",
      "Building output data, this step may take several minutes\n"
     ]
    },
    {
     "name": "stderr",
     "output_type": "stream",
     "text": [
      "Processing: 100%|██████████| 19625/19625 [00:22<00:00, 853.68it/s] \n"
     ]
    },
    {
     "name": "stdout",
     "output_type": "stream",
     "text": [
      "Shape of output data is (71915, 43878). It should have 42117 genes with cell number unchanged.\n",
      "=========Building output h5ad=========\n",
      "Finished\n",
      "=========Printing report=========\n",
      "report file saved in: ./test_pytoolkit/Lu2022_report.csv\n",
      "Finished\n"
     ]
    }
   ],
   "source": [
    "start_time = time.time()\n",
    "adata_output = GeneSymbolUniform(input_path = \"/home/wyh/liver_atlas/data/Lu2022/Lu2022_plot_V2.h5ad\",\n",
    "                                 ref_table_path = \"./GeneSymbolRef_SelectAll_upd.csv\",\n",
    "                                 gene_list_path = \"total_gene_list_43878.txt\",\n",
    "                                 output_dir=\"./test_pytoolkit/\",\n",
    "                                 output_prefix='Lu2022',\n",
    "                                 print_report=True,\n",
    "                                 average_alias=False,\n",
    "                                 n_threads=30)\n",
    "end_time = time.time()"
   ]
  },
  {
   "cell_type": "code",
   "execution_count": 9,
   "id": "ccf56307-4bd1-45e9-9e30-0dc1f5236e52",
   "metadata": {
    "tags": []
   },
   "outputs": [
    {
     "data": {
      "text/plain": [
       "152.48232674598694"
      ]
     },
     "execution_count": 9,
     "metadata": {},
     "output_type": "execute_result"
    }
   ],
   "source": [
    "end_time-start_time"
   ]
  },
  {
   "cell_type": "code",
   "execution_count": 10,
   "id": "c1fbaadf-64b0-4ade-a24b-35313b8414bf",
   "metadata": {
    "tags": []
   },
   "outputs": [
    {
     "data": {
      "text/plain": [
       "AnnData object with n_obs × n_vars = 71915 × 43878\n",
       "    obs: 'Age', 'Author', 'Cell_ID', 'Disease', 'Fibrotic_status', 'GEO_accession', 'Gender', 'Original_name_global', 'Original_name_sub', 'Patient_ID', 'Sample_ID', 'Sample_status', 'Sample_status_original', 'Seq_tech', 'Source', 'State', 'TNM', 'Virus_infection', 'nCount_RNA', 'nFeature_RNA', 'orig.ident', 'leiden', 'Level1', 'batch', 'level1'"
      ]
     },
     "execution_count": 10,
     "metadata": {},
     "output_type": "execute_result"
    }
   ],
   "source": [
    "adata_output"
   ]
  }
 ],
 "metadata": {
  "kernelspec": {
   "display_name": "cell2loc",
   "language": "python",
   "name": "cell2loc_env"
  },
  "language_info": {
   "codemirror_mode": {
    "name": "ipython",
    "version": 3
   },
   "file_extension": ".py",
   "mimetype": "text/x-python",
   "name": "python",
   "nbconvert_exporter": "python",
   "pygments_lexer": "ipython3",
   "version": "3.9.7"
  }
 },
 "nbformat": 4,
 "nbformat_minor": 5
}
